{
 "cells": [
  {
   "cell_type": "code",
   "execution_count": null,
   "metadata": {},
   "outputs": [],
   "source": []
  },
  {
   "cell_type": "code",
   "execution_count": null,
   "metadata": {},
   "outputs": [],
   "source": []
  },
  {
   "cell_type": "code",
   "execution_count": null,
   "metadata": {},
   "outputs": [],
   "source": []
  },
  {
   "cell_type": "code",
   "execution_count": null,
   "metadata": {},
   "outputs": [],
   "source": []
  },
  {
   "cell_type": "code",
   "execution_count": 1,
   "metadata": {},
   "outputs": [
    {
     "name": "stdout",
     "output_type": "stream",
     "text": [
      "Collecting syft\n",
      "  Using cached syft-0.2.9-py3-none-any.whl (433 kB)\n",
      "Collecting openmined.threepio==0.2.0\n",
      "  Using cached openmined.threepio-0.2.0.tar.gz (73 kB)\n",
      "Collecting tornado==4.5.3\n",
      "  Using cached tornado-4.5.3.tar.gz (484 kB)\n",
      "Collecting torchvision~=0.5.0\n",
      "  Using cached torchvision-0.5.0-cp38-cp38-manylinux1_x86_64.whl (4.0 MB)\n",
      "Collecting Pillow>=7.1.0\n",
      "  Downloading Pillow-8.0.1-cp38-cp38-manylinux1_x86_64.whl (2.2 MB)\n",
      "\u001b[K     |████████████████████████████████| 2.2 MB 113 kB/s eta 0:00:01     |████                            | 276 kB 243 kB/s eta 0:00:08     |█████▋                          | 389 kB 243 kB/s eta 0:00:08     |███████▏                        | 491 kB 243 kB/s eta 0:00:08     |██████████▉                     | 747 kB 479 kB/s eta 0:00:04\n",
      "\u001b[?25hCollecting notebook==5.7.8\n",
      "  Using cached notebook-5.7.8-py2.py3-none-any.whl (9.0 MB)\n",
      "Collecting phe~=1.4.0\n",
      "  Using cached phe-1.4.0.tar.gz (35 kB)\n",
      "Collecting syft-proto~=0.5.2\n",
      "  Using cached syft_proto-0.5.2-py3-none-any.whl (63 kB)\n",
      "Collecting flask-socketio~=4.2.1\n",
      "  Using cached Flask_SocketIO-4.2.1-py2.py3-none-any.whl (16 kB)\n",
      "Collecting websocket-client~=0.57.0\n",
      "  Using cached websocket_client-0.57.0-py2.py3-none-any.whl (200 kB)\n",
      "Collecting requests~=2.22.0\n",
      "  Using cached requests-2.22.0-py2.py3-none-any.whl (57 kB)\n",
      "Collecting websockets~=8.1.0\n",
      "  Using cached websockets-8.1-cp38-cp38-manylinux2010_x86_64.whl (78 kB)\n",
      "Collecting msgpack~=1.0.0\n",
      "  Using cached msgpack-1.0.0-cp38-cp38-manylinux1_x86_64.whl (303 kB)\n",
      "Collecting shaloop==0.2.1-alpha.11\n",
      "  Using cached shaloop-0.2.1_alpha.11-py3-none-manylinux1_x86_64.whl (126 kB)\n",
      "Collecting tblib~=1.6.0\n",
      "  Using cached tblib-1.6.0-py2.py3-none-any.whl (12 kB)\n",
      "Collecting torch~=1.4.0\n",
      "  Downloading torch-1.4.0-cp38-cp38-manylinux1_x86_64.whl (753.4 MB)\n",
      "\u001b[K     |▏                               | 3.0 MB 268 kB/s eta 0:46:36     |                                | 1.2 MB 74 kB/s eta 2:48:15     |                                | 1.3 MB 74 kB/s eta 2:48:14     |                                | 1.3 MB 54 kB/s eta 3:51:52     |                                | 2.4 MB 163 kB/s eta 1:16:31\u001b[31mERROR: Exception:\n",
      "Traceback (most recent call last):\n",
      "  File \"/home/tifeasypeasy/opt/miniconda3/envs/my_syft/lib/python3.8/site-packages/pip/_vendor/urllib3/response.py\", line 437, in _error_catcher\n",
      "    yield\n",
      "  File \"/home/tifeasypeasy/opt/miniconda3/envs/my_syft/lib/python3.8/site-packages/pip/_vendor/urllib3/response.py\", line 519, in read\n",
      "    data = self._fp.read(amt) if not fp_closed else b\"\"\n",
      "  File \"/home/tifeasypeasy/opt/miniconda3/envs/my_syft/lib/python3.8/site-packages/pip/_vendor/cachecontrol/filewrapper.py\", line 62, in read\n",
      "    data = self.__fp.read(amt)\n",
      "  File \"/home/tifeasypeasy/opt/miniconda3/envs/my_syft/lib/python3.8/http/client.py\", line 458, in read\n",
      "    n = self.readinto(b)\n",
      "  File \"/home/tifeasypeasy/opt/miniconda3/envs/my_syft/lib/python3.8/http/client.py\", line 502, in readinto\n",
      "    n = self.fp.readinto(b)\n",
      "  File \"/home/tifeasypeasy/opt/miniconda3/envs/my_syft/lib/python3.8/socket.py\", line 669, in readinto\n",
      "    return self._sock.recv_into(b)\n",
      "  File \"/home/tifeasypeasy/opt/miniconda3/envs/my_syft/lib/python3.8/ssl.py\", line 1241, in recv_into\n",
      "    return self.read(nbytes, buffer)\n",
      "  File \"/home/tifeasypeasy/opt/miniconda3/envs/my_syft/lib/python3.8/ssl.py\", line 1099, in read\n",
      "    return self._sslobj.read(len, buffer)\n",
      "socket.timeout: The read operation timed out\n",
      "\n",
      "During handling of the above exception, another exception occurred:\n",
      "\n",
      "Traceback (most recent call last):\n",
      "  File \"/home/tifeasypeasy/opt/miniconda3/envs/my_syft/lib/python3.8/site-packages/pip/_internal/cli/base_command.py\", line 228, in _main\n",
      "    status = self.run(options, args)\n",
      "  File \"/home/tifeasypeasy/opt/miniconda3/envs/my_syft/lib/python3.8/site-packages/pip/_internal/cli/req_command.py\", line 182, in wrapper\n",
      "    return func(self, options, args)\n",
      "  File \"/home/tifeasypeasy/opt/miniconda3/envs/my_syft/lib/python3.8/site-packages/pip/_internal/commands/install.py\", line 323, in run\n",
      "    requirement_set = resolver.resolve(\n",
      "  File \"/home/tifeasypeasy/opt/miniconda3/envs/my_syft/lib/python3.8/site-packages/pip/_internal/resolution/legacy/resolver.py\", line 183, in resolve\n",
      "    discovered_reqs.extend(self._resolve_one(requirement_set, req))\n",
      "  File \"/home/tifeasypeasy/opt/miniconda3/envs/my_syft/lib/python3.8/site-packages/pip/_internal/resolution/legacy/resolver.py\", line 388, in _resolve_one\n",
      "    abstract_dist = self._get_abstract_dist_for(req_to_install)\n",
      "  File \"/home/tifeasypeasy/opt/miniconda3/envs/my_syft/lib/python3.8/site-packages/pip/_internal/resolution/legacy/resolver.py\", line 340, in _get_abstract_dist_for\n",
      "    abstract_dist = self.preparer.prepare_linked_requirement(req)\n",
      "  File \"/home/tifeasypeasy/opt/miniconda3/envs/my_syft/lib/python3.8/site-packages/pip/_internal/operations/prepare.py\", line 467, in prepare_linked_requirement\n",
      "    local_file = unpack_url(\n",
      "  File \"/home/tifeasypeasy/opt/miniconda3/envs/my_syft/lib/python3.8/site-packages/pip/_internal/operations/prepare.py\", line 255, in unpack_url\n",
      "    file = get_http_url(\n",
      "  File \"/home/tifeasypeasy/opt/miniconda3/envs/my_syft/lib/python3.8/site-packages/pip/_internal/operations/prepare.py\", line 129, in get_http_url\n",
      "    from_path, content_type = _download_http_url(\n",
      "  File \"/home/tifeasypeasy/opt/miniconda3/envs/my_syft/lib/python3.8/site-packages/pip/_internal/operations/prepare.py\", line 282, in _download_http_url\n",
      "    for chunk in download.chunks:\n",
      "  File \"/home/tifeasypeasy/opt/miniconda3/envs/my_syft/lib/python3.8/site-packages/pip/_internal/cli/progress_bars.py\", line 168, in iter\n",
      "    for x in it:\n",
      "  File \"/home/tifeasypeasy/opt/miniconda3/envs/my_syft/lib/python3.8/site-packages/pip/_internal/network/utils.py\", line 64, in response_chunks\n",
      "    for chunk in response.raw.stream(\n",
      "  File \"/home/tifeasypeasy/opt/miniconda3/envs/my_syft/lib/python3.8/site-packages/pip/_vendor/urllib3/response.py\", line 576, in stream\n",
      "    data = self.read(amt=amt, decode_content=decode_content)\n",
      "  File \"/home/tifeasypeasy/opt/miniconda3/envs/my_syft/lib/python3.8/site-packages/pip/_vendor/urllib3/response.py\", line 541, in read\n",
      "    raise IncompleteRead(self._fp_bytes_read, self.length_remaining)\n",
      "  File \"/home/tifeasypeasy/opt/miniconda3/envs/my_syft/lib/python3.8/contextlib.py\", line 131, in __exit__\n",
      "    self.gen.throw(type, value, traceback)\n",
      "  File \"/home/tifeasypeasy/opt/miniconda3/envs/my_syft/lib/python3.8/site-packages/pip/_vendor/urllib3/response.py\", line 442, in _error_catcher\n",
      "    raise ReadTimeoutError(self._pool, None, \"Read timed out.\")\n",
      "pip._vendor.urllib3.exceptions.ReadTimeoutError: HTTPSConnectionPool(host='files.pythonhosted.org', port=443): Read timed out.\u001b[0m\n",
      "Note: you may need to restart the kernel to use updated packages.\n"
     ]
    }
   ],
   "source": [
    "pip install syft"
   ]
  },
  {
   "cell_type": "code",
   "execution_count": null,
   "metadata": {},
   "outputs": [],
   "source": []
  }
 ],
 "metadata": {
  "kernelspec": {
   "display_name": "Python 3",
   "language": "python",
   "name": "python3"
  },
  "language_info": {
   "codemirror_mode": {
    "name": "ipython",
    "version": 3
   },
   "file_extension": ".py",
   "mimetype": "text/x-python",
   "name": "python",
   "nbconvert_exporter": "python",
   "pygments_lexer": "ipython3",
   "version": "3.8.5"
  }
 },
 "nbformat": 4,
 "nbformat_minor": 4
}
