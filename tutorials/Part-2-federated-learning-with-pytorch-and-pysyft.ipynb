{
 "cells": [
  {
   "cell_type": "markdown",
   "metadata": {},
   "source": [
    "# Federated learning with pysyft on MNIST data\n",
    "in this notebook, we are going to cover training a neural network on the MNIST dataset while implementing the federated learning approach with the pysyft library.\n",
    "\n",
    "## prerequisites\n",
    "- Familiarity with pysyft [check this notebook on an introductory guide to pysyft](https://jovian.ai/tifeasypeasy/introducing-privacy-preserving-tool)"
   ]
  },
  {
   "cell_type": "markdown",
   "metadata": {},
   "source": [
    "## Federated learning workflow\n",
    "\n",
    " - Edge devices  receives a copy of a global model from a central server.\n",
    " - The model is being trained locally on the data residing on the edge devices \n",
    " - The global model weights are updated during training on each worker\n",
    " - A local copy is sent back to the central server \n",
    " - The server receives various updated model and aggregate the updates thereby improving the global model and also preserving privacy of data in which it was being trained on.\n",
    "\n",
    "\n",
    "![image](https://miro.medium.com/max/640/0*yI_rIRNAFTYDwFtK.png)\n",
    "\n",
    "Figure1. Federated learning"
   ]
  },
  {
   "cell_type": "markdown",
   "metadata": {},
   "source": [
    "Use cases\n",
    "- **Next word prediction**: Federated learning is used to improve word prediction in mobile devices without uploading users data to the cloud for training. Google gboard implements FL by using on-device data to train and improve the gboard next word prediction model for it's users, watch this video to better understand how google uses federated learning at scale. You can also read this online comic from Google AI to get a better grasp of federated learning. \n",
    "\n",
    "- **Voice recognition**: FL is also used in voice recognition technologies, an example is in apple Siri and just recently Google introduces the audio recognition technology on Google assistant to train and better improve users experience with the Google assistant. Watch a demonstration of FL on audio recording for speech systems here. \n",
    "\n",
    "In every of these use cases, the data doesn't leave the edge devices thereby keeping the data private, safe and secure while still improving these technologies and making products smarter over time."
   ]
  },
  {
   "cell_type": "markdown",
   "metadata": {},
   "source": [
    "# Setup\n",
    "\n",
    "## How to run the code \n",
    "Running this notebook is the same as running the 'introducing-privacy-preserving-tool' notebook. You can either run it online on the jovian platform [via this link](https://jovian.ai/tifeasypeasy/federated-learning-on-mnist) without having to install anything or locally on your machine \n"
   ]
  },
  {
   "cell_type": "code",
   "execution_count": 1,
   "metadata": {},
   "outputs": [],
   "source": [
    "# !pip install jovian --upgrade --quiet\n",
    "# uncomment the above command if youre running on binder"
   ]
  },
  {
   "cell_type": "code",
   "execution_count": 2,
   "metadata": {},
   "outputs": [
    {
     "name": "stdout",
     "output_type": "stream",
     "text": [
      "Collecting syft\n",
      "\u001b[?25l  Downloading https://files.pythonhosted.org/packages/1c/73/891ba1dca7e0ba77be211c36688f083184d8c9d5901b8cd59cbf867052f3/syft-0.2.9-py3-none-any.whl (433kB)\n",
      "\u001b[K     |████████████████████████████████| 440kB 3.3MB/s eta 0:00:01\n",
      "\u001b[?25hCollecting lz4~=3.0.2 (from syft)\n",
      "\u001b[?25l  Downloading https://files.pythonhosted.org/packages/65/38/dacc3cbb33a9ded9e2e57f48707e8842f1080997901578ebddaa0e031646/lz4-3.0.2-cp37-cp37m-manylinux2010_x86_64.whl (1.8MB)\n",
      "\u001b[K     |████████████████████████████████| 1.8MB 26.0MB/s eta 0:00:01\n",
      "\u001b[?25hCollecting dill~=0.3.1 (from syft)\n",
      "\u001b[?25l  Downloading https://files.pythonhosted.org/packages/e2/96/518a8ea959a734b70d2e95fef98bcbfdc7adad1c1e5f5dd9148c835205a5/dill-0.3.2.zip (177kB)\n",
      "\u001b[K     |████████████████████████████████| 184kB 20.2MB/s eta 0:00:01\n",
      "\u001b[?25hCollecting phe~=1.4.0 (from syft)\n",
      "  Downloading https://files.pythonhosted.org/packages/32/0e/568e97b014eb14e794a1258a341361e9da351dc6240c63b89e1541e3341c/phe-1.4.0.tar.gz\n",
      "Collecting torch~=1.4.0 (from syft)\n",
      "\u001b[?25l  Downloading https://files.pythonhosted.org/packages/1a/3b/fa92ece1e58a6a48ec598bab327f39d69808133e5b2fb33002ca754e381e/torch-1.4.0-cp37-cp37m-manylinux1_x86_64.whl (753.4MB)\n",
      "\u001b[K     |████████████████████████████████| 753.4MB 24kB/s  eta 0:00:012   |                                | 2.5MB 13.7MB/s eta 0:00:55     |▏                               | 3.9MB 13.7MB/s eta 0:00:552322     |█████▊                          | 133.7MB 48.0MB/s eta 0:00:13     |█████▊                          | 135.0MB 48.0MB/s eta 0:00:13MB/s eta 0:00:13     |██████                          | 143.4MB 48.0MB/s eta 0:00:134MB 34.8MB/s eta 0:00:17     |████████▎                       | 194.6MB 24.6MB/s eta 0:00:23     |██████████▏                     | 238.4MB 50.4MB/s eta 0:00:11          | 348.2MB 33.7MB/s eta 0:00:13     |███████████████▉                | 372.5MB 38.0MB/s eta 0:00:11     |████████████████                | 376.2MB 38.0MB/s eta 0:00:10     |██████████████████▍             | 434.1MB 43.6MB/s eta 0:00:08��██████████████▌             | 434.3MB 43.6MB/s eta 0:00:08�█████████████▋             | 439.2MB 43.6MB/s eta 0:00:08▊             | 439.6MB 43.6MB/s eta 0:00:08| 449.6MB 11.9MB/s eta 0:00:26█████████████████▌            | 457.8MB 11.9MB/s eta 0:00:25     |███████████████████▌            | 460.2MB 11.9MB/s eta 0:00:25     |███████████████████▋            | 462.7MB 20.7MB/s eta 0:00:15  | 476.6MB 20.7MB/s eta 0:00:14 |████████████████████▎           | 478.1MB 20.7MB/s eta 0:00:14�█████████████▌           | 482.8MB 19.5MB/s eta 0:00:14�█████████████▊           | 487.4MB 19.5MB/s eta 0:00:14     |████████████████████▉           | 489.9MB 19.5MB/s eta 0:00:14        | 490.5MB 19.5MB/s eta 0:00:14�█████▉           | 491.7MB 19.5MB/s eta 0:00:14█████████████████           | 492.6MB 19.5MB/s eta 0:00:1419.5MB/s eta 0:00:14     |█████████████████████▎          | 499.7MB 19.5MB/s eta 0:00:14�████████▍          | 504.8MB 41.0MB/s eta 0:00:07          | 506.8MB 41.0MB/s eta 0:00:07�███████████▊       | 581.0MB 58.2MB/s eta 0:00:03�█████▊       | 582.4MB 58.2MB/s eta 0:00:03     |██████████████████████████▎     | 619.4MB 59.2MB/s eta 0:00:03     |██████████████████████████▊     | 628.6MB 59.2MB/s eta 0:00:03| 671.5MB 43.2MB/s eta 0:00:02��██████████   | 683.9MB 9.4MB/s eta 0:00:08     |█████████████████████████████▏  | 686.0MB 9.4MB/s eta 0:00:08��█████████████████▏  | 686.8MB 9.4MB/s eta 0:00:08     |██████████████████████████████  | 706.9MB 9.4MB/s eta 0:00:05��████████████████▌ | 718.5MB 9.2MB/s eta 0:00:04███████████████████████████████ | 731.3MB 9.2MB/s eta 0:00:03██████▏| 734.4MB 9.2MB/s eta 0:00:03��███████████████████████████▎| 735.6MB 9.2MB/s eta 0:00:02B/s eta 0:00:02██████▌| 740.9MB 4.7MB/s eta 0:00:03��███████████████████████████▌| 742.1MB 4.7MB/s eta 0:00:03\n",
      "\u001b[?25hCollecting msgpack~=1.0.0 (from syft)\n",
      "\u001b[?25l  Downloading https://files.pythonhosted.org/packages/d2/9f/5a6805e7e745531da7acc882f9ba4550ffd7d6f05a668a22b385f52741ee/msgpack-1.0.0-cp37-cp37m-manylinux1_x86_64.whl (275kB)\n",
      "\u001b[K     |████████████████████████████████| 276kB 38.6MB/s eta 0:00:01\n",
      "\u001b[?25hCollecting torchvision~=0.5.0 (from syft)\n",
      "\u001b[?25l  Downloading https://files.pythonhosted.org/packages/1c/32/cb0e4c43cd717da50258887b088471568990b5a749784c465a8a1962e021/torchvision-0.5.0-cp37-cp37m-manylinux1_x86_64.whl (4.0MB)\n",
      "\u001b[K     |████████████████████████████████| 4.0MB 39.6MB/s eta 0:00:011.2MB 39.6MB/s eta 0:00:01              | 1.6MB 39.6MB/s eta 0:00:01��███████████████▊    | 3.5MB 39.6MB/s eta 0:00:01██████████████▏ | 3.8MB 39.6MB/s eta 0:00:01\n",
      "\u001b[?25hCollecting tornado==4.5.3 (from syft)\n",
      "\u001b[?25l  Downloading https://files.pythonhosted.org/packages/e3/7b/e29ab3d51c8df66922fea216e2bddfcb6430fb29620e5165b16a216e0d3c/tornado-4.5.3.tar.gz (484kB)\n",
      "\u001b[K     |████████████████████████████████| 491kB 36.8MB/s eta 0:00:01  |████████████████▎               | 245kB 36.8MB/s eta 0:00:01\n",
      "\u001b[?25hCollecting RestrictedPython~=5.0 (from syft)\n",
      "  Downloading https://files.pythonhosted.org/packages/a0/cc/28c4d966615a46b03be4dac0f2c6e713412efbf2f85428eeb9618c4f6f0c/RestrictedPython-5.1-py2.py3-none-any.whl\n",
      "Collecting flask-socketio~=4.2.1 (from syft)\n",
      "  Downloading https://files.pythonhosted.org/packages/66/44/edc4715af85671b943c18ac8345d0207972284a0cd630126ff5251faa08b/Flask_SocketIO-4.2.1-py2.py3-none-any.whl\n",
      "Collecting Pillow>=7.1.0 (from syft)\n",
      "\u001b[?25l  Downloading https://files.pythonhosted.org/packages/af/fa/c1302a26d5e1a17fa8e10e43417b6cf038b0648c4b79fcf2302a4a0c5d30/Pillow-8.0.1-cp37-cp37m-manylinux1_x86_64.whl (2.2MB)\n",
      "\u001b[K     |████████████████████████████████| 2.2MB 36.4MB/s eta 0:00:01\n",
      "\u001b[?25hCollecting requests-toolbelt==0.9.1 (from syft)\n",
      "\u001b[?25l  Downloading https://files.pythonhosted.org/packages/60/ef/7681134338fc097acef8d9b2f8abe0458e4d87559c689a8c306d0957ece5/requests_toolbelt-0.9.1-py2.py3-none-any.whl (54kB)\n",
      "\u001b[K     |████████████████████████████████| 61kB 8.2MB/s  eta 0:00:01\n",
      "\u001b[?25hRequirement already satisfied: requests~=2.22.0 in /srv/conda/envs/notebook/lib/python3.7/site-packages (from syft) (2.22.0)\n",
      "Collecting Flask~=1.1.1 (from syft)\n",
      "\u001b[?25l  Downloading https://files.pythonhosted.org/packages/f2/28/2a03252dfb9ebf377f40fba6a7841b47083260bf8bd8e737b0c6952df83f/Flask-1.1.2-py2.py3-none-any.whl (94kB)\n",
      "\u001b[K     |████████████████████████████████| 102kB 22.7MB/s ta 0:00:01\n",
      "\u001b[?25hCollecting numpy~=1.18.1 (from syft)\n",
      "\u001b[?25l  Downloading https://files.pythonhosted.org/packages/d6/c6/58e517e8b1fb192725cfa23c01c2e60e4e6699314ee9684a1c5f5c9b27e1/numpy-1.18.5-cp37-cp37m-manylinux1_x86_64.whl (20.1MB)\n",
      "\u001b[K     |████████████████████████████████| 20.1MB 23.4MB/s eta 0:00:01MB 23.4MB/s eta 0:00:01a 0:00:01     |████████████████████████▊       | 15.6MB 23.4MB/s eta 0:00:01\n",
      "\u001b[?25hCollecting psutil==5.7.0 (from syft)\n",
      "\u001b[?25l  Downloading https://files.pythonhosted.org/packages/c4/b8/3512f0e93e0db23a71d82485ba256071ebef99b227351f0f5540f744af41/psutil-5.7.0.tar.gz (449kB)\n",
      "\u001b[K     |████████████████████████████████| 450kB 42.1MB/s eta 0:00:01��███████████████▏             | 256kB 42.1MB/s eta 0:00:0100:01\n",
      "\u001b[?25hCollecting scipy~=1.4.1 (from syft)\n",
      "\u001b[?25l  Downloading https://files.pythonhosted.org/packages/dd/82/c1fe128f3526b128cfd185580ba40d01371c5d299fcf7f77968e22dfcc2e/scipy-1.4.1-cp37-cp37m-manylinux1_x86_64.whl (26.1MB)\n",
      "\u001b[K     |████████████████████████████████| 26.1MB 24.7MB/s eta 0:00:01B 40.4MB/s eta 0:00:01           | 552kB 40.4MB/s eta 0:00:01             | 1.1MB 40.4MB/s eta 0:00:01��███▌                          | 4.5MB 40.4MB/s eta 0:00:01��                      | 7.6MB 40.4MB/s eta 0:00:01[K     |██████████▏                     | 8.3MB 40.4MB/s eta 0:00:01     |█████████████▏                  | 10.8MB 40.4MB/s eta 0:00:01     |████████████████████            | 16.3MB 40.4MB/s eta 0:00:01MB 24.7MB/s eta 0:00:01     |██████████████████████████████  | 24.5MB 24.7MB/s eta 0:00:01�█████████████████████████▍ | 24.8MB 24.7MB/s eta 0:00:01\n",
      "\u001b[?25hCollecting tblib~=1.6.0 (from syft)\n",
      "  Downloading https://files.pythonhosted.org/packages/0d/de/dca3e651ca62e59c08d324f4a51467fa4b8cbeaafb883b5e83720b4d4a47/tblib-1.6.0-py2.py3-none-any.whl\n",
      "Requirement already satisfied: notebook==5.7.8 in /srv/conda/envs/notebook/lib/python3.7/site-packages (from syft) (5.7.8)\n"
     ]
    },
    {
     "name": "stdout",
     "output_type": "stream",
     "text": [
      "Collecting openmined.threepio==0.2.0 (from syft)\n",
      "\u001b[?25l  Downloading https://files.pythonhosted.org/packages/0a/38/df6367693c7f3808f076cd8c2647c434a04adda2bbb2435dadefe7258fd4/openmined.threepio-0.2.0.tar.gz (73kB)\n",
      "\u001b[K     |████████████████████████████████| 81kB 10.2MB/s eta 0:00:01\n",
      "\u001b[?25hCollecting shaloop==0.2.1-alpha.11 (from syft)\n",
      "\u001b[?25l  Downloading https://files.pythonhosted.org/packages/7b/8e/6c4493280d55199161c2eea896327c740195cf16cc74c5393c08eababc83/shaloop-0.2.1_alpha.11-py3-none-manylinux1_x86_64.whl (126kB)\n",
      "\u001b[K     |████████████████████████████████| 133kB 17.1MB/s eta 0:00:01\n",
      "\u001b[?25hCollecting websocket-client~=0.57.0 (from syft)\n",
      "\u001b[?25l  Downloading https://files.pythonhosted.org/packages/4c/5f/f61b420143ed1c8dc69f9eaec5ff1ac36109d52c80de49d66e0c36c3dfdf/websocket_client-0.57.0-py2.py3-none-any.whl (200kB)\n",
      "\u001b[K     |████████████████████████████████| 204kB 25.4MB/s eta 0:00:01\n",
      "\u001b[?25hCollecting aiortc==0.9.28 (from syft)\n",
      "\u001b[?25l  Downloading https://files.pythonhosted.org/packages/df/c5/0c15e562c5ea1531e8c7db1bcd524e53619cc27a228f3f28d2ba55544d38/aiortc-0.9.28-cp37-cp37m-manylinux2010_x86_64.whl (2.0MB)\n",
      "\u001b[K     |████████████████████████████████| 2.0MB 34.7MB/s eta 0:00:01\n",
      "\u001b[?25hCollecting websockets~=8.1.0 (from syft)\n",
      "\u001b[?25l  Downloading https://files.pythonhosted.org/packages/5a/0b/3ebc752392a368af14dd24ee041683416ac6d2463eead94b311b11e41c82/websockets-8.1-cp37-cp37m-manylinux2010_x86_64.whl (79kB)\n",
      "\u001b[K     |████████████████████████████████| 81kB 25.3MB/s eta 0:00:01\n",
      "\u001b[?25hCollecting syft-proto~=0.5.2 (from syft)\n",
      "\u001b[?25l  Downloading https://files.pythonhosted.org/packages/a8/85/fea3668a2da78b02394bd2532e6c8b01f354c664f09db74d7f133b68f938/syft_proto-0.5.2-py3-none-any.whl (63kB)\n",
      "\u001b[K     |████████████████████████████████| 71kB 24.1MB/s eta 0:00:01\n",
      "\u001b[?25hCollecting importlib-resources~=1.5.0 (from syft)\n",
      "  Downloading https://files.pythonhosted.org/packages/7f/2d/88f166bcaadc09d9fdbf1c336ad118e01b7fe1155e15675e125be2ff1899/importlib_resources-1.5.0-py2.py3-none-any.whl\n",
      "Requirement already satisfied: six in /srv/conda/envs/notebook/lib/python3.7/site-packages (from torchvision~=0.5.0->syft) (1.12.0)\n",
      "Collecting python-socketio>=4.3.0 (from flask-socketio~=4.2.1->syft)\n",
      "\u001b[?25l  Downloading https://files.pythonhosted.org/packages/3d/97/00741edd49788510b834b60a1a4d0afb2c4942770c11b8e0f6e914371718/python_socketio-4.6.0-py2.py3-none-any.whl (51kB)\n",
      "\u001b[K     |████████████████████████████████| 61kB 20.6MB/s eta 0:00:01\n",
      "\u001b[?25hRequirement already satisfied: urllib3!=1.25.0,!=1.25.1,<1.26,>=1.21.1 in /srv/conda/envs/notebook/lib/python3.7/site-packages (from requests~=2.22.0->syft) (1.25.3)\n",
      "Requirement already satisfied: idna<2.9,>=2.5 in /srv/conda/envs/notebook/lib/python3.7/site-packages (from requests~=2.22.0->syft) (2.8)\n",
      "Requirement already satisfied: certifi>=2017.4.17 in /srv/conda/envs/notebook/lib/python3.7/site-packages (from requests~=2.22.0->syft) (2019.6.16)\n",
      "Requirement already satisfied: chardet<3.1.0,>=3.0.2 in /srv/conda/envs/notebook/lib/python3.7/site-packages (from requests~=2.22.0->syft) (3.0.4)\n",
      "Requirement already satisfied: click>=5.1 in /srv/conda/envs/notebook/lib/python3.7/site-packages (from Flask~=1.1.1->syft) (7.1.2)\n",
      "Requirement already satisfied: Jinja2>=2.10.1 in /srv/conda/envs/notebook/lib/python3.7/site-packages (from Flask~=1.1.1->syft) (2.10.1)\n",
      "Collecting itsdangerous>=0.24 (from Flask~=1.1.1->syft)\n",
      "  Downloading https://files.pythonhosted.org/packages/76/ae/44b03b253d6fade317f32c24d100b3b35c2239807046a4c953c7b89fa49e/itsdangerous-1.1.0-py2.py3-none-any.whl\n",
      "Collecting Werkzeug>=0.15 (from Flask~=1.1.1->syft)\n",
      "\u001b[?25l  Downloading https://files.pythonhosted.org/packages/cc/94/5f7079a0e00bd6863ef8f1da638721e9da21e5bacee597595b318f71d62e/Werkzeug-1.0.1-py2.py3-none-any.whl (298kB)\n",
      "\u001b[K     |████████████████████████████████| 307kB 42.8MB/s eta 0:00:01\n",
      "\u001b[?25hRequirement already satisfied: ipykernel in /srv/conda/envs/notebook/lib/python3.7/site-packages (from notebook==5.7.8->syft) (5.1.1)\n",
      "Requirement already satisfied: traitlets>=4.2.1 in /srv/conda/envs/notebook/lib/python3.7/site-packages (from notebook==5.7.8->syft) (4.3.2)\n",
      "Requirement already satisfied: jupyter-core>=4.4.0 in /srv/conda/envs/notebook/lib/python3.7/site-packages (from notebook==5.7.8->syft) (4.4.0)\n",
      "Requirement already satisfied: prometheus-client in /srv/conda/envs/notebook/lib/python3.7/site-packages (from notebook==5.7.8->syft) (0.7.1)\n",
      "Requirement already satisfied: terminado>=0.8.1 in /srv/conda/envs/notebook/lib/python3.7/site-packages (from notebook==5.7.8->syft) (0.8.2)\n",
      "Requirement already satisfied: ipython-genutils in /srv/conda/envs/notebook/lib/python3.7/site-packages (from notebook==5.7.8->syft) (0.2.0)\n",
      "Requirement already satisfied: nbconvert in /srv/conda/envs/notebook/lib/python3.7/site-packages (from notebook==5.7.8->syft) (5.4.1)\n",
      "Requirement already satisfied: pyzmq>=17 in /srv/conda/envs/notebook/lib/python3.7/site-packages (from notebook==5.7.8->syft) (18.0.2)\n",
      "Requirement already satisfied: nbformat in /srv/conda/envs/notebook/lib/python3.7/site-packages (from notebook==5.7.8->syft) (4.4.0)\n",
      "Requirement already satisfied: jupyter-client>=5.2.0 in /srv/conda/envs/notebook/lib/python3.7/site-packages (from notebook==5.7.8->syft) (5.3.1)\n",
      "Requirement already satisfied: Send2Trash in /srv/conda/envs/notebook/lib/python3.7/site-packages (from notebook==5.7.8->syft) (1.5.0)\n",
      "Requirement already satisfied: pycparser>=2 in /srv/conda/envs/notebook/lib/python3.7/site-packages (from shaloop==0.2.1-alpha.11->syft) (2.19)\n",
      "Requirement already satisfied: cffi>=1 in /srv/conda/envs/notebook/lib/python3.7/site-packages (from shaloop==0.2.1-alpha.11->syft) (1.12.3)\n",
      "Collecting pyee>=6.0.0 (from aiortc==0.9.28->syft)\n",
      "  Downloading https://files.pythonhosted.org/packages/0d/0a/933b3931107e1da186963fd9bb9bceb9a613cff034cb0fb3b0c61003f357/pyee-8.1.0-py2.py3-none-any.whl\n",
      "Collecting av<9.0.0,>=8.0.0 (from aiortc==0.9.28->syft)\n",
      "\u001b[?25l  Downloading https://files.pythonhosted.org/packages/ad/e0/55d9226e852a03de215167ba3948432347a23a44d9f8e3bd7a6f219658c3/av-8.0.2-cp37-cp37m-manylinux2010_x86_64.whl (36.9MB)\n",
      "\u001b[K     |████████████████████████████████| 36.9MB 777kB/s eta 0:00:011   | 1.2MB 21.0MB/s eta 0:00:02��██████▍              | 20.1MB 21.0MB/s eta 0:00:01.5MB 21.0MB/s eta 0:00:01B/s eta 0:00:01█▊             | 21.6MB 21.0MB/s eta 0:00:01█████████████             | 22.0MB 21.0MB/s eta 0:00:01��█████████▍            | 22.4MB 21.0MB/s eta 0:00:01\n",
      "\u001b[?25hCollecting pylibsrtp>=0.5.6 (from aiortc==0.9.28->syft)\n",
      "\u001b[?25l  Downloading https://files.pythonhosted.org/packages/94/1a/6d4810815b2309b6af2de888bb66daa2fdf7b550aac262fd7af0b0a78e6b/pylibsrtp-0.6.7-cp37-cp37m-manylinux2010_x86_64.whl (75kB)\n",
      "\u001b[K     |████████████████████████████████| 81kB 14.6MB/s eta 0:00:01\n",
      "\u001b[?25hCollecting aioice<0.7.0,>=0.6.17 (from aiortc==0.9.28->syft)\n",
      "  Downloading https://files.pythonhosted.org/packages/8b/86/e3cdf660b67da7a9a7013253db5db7cf786a52296cb40078db1206177698/aioice-0.6.18-py3-none-any.whl\n",
      "Requirement already satisfied: cryptography>=2.2 in /srv/conda/envs/notebook/lib/python3.7/site-packages (from aiortc==0.9.28->syft) (2.7)\n",
      "Collecting crc32c (from aiortc==0.9.28->syft)\n",
      "\u001b[?25l  Downloading https://files.pythonhosted.org/packages/db/85/4656cc0ac33be2725d6de41eabfeb72f86c194fe26decf28162d72f9a642/crc32c-2.2-cp37-cp37m-manylinux2010_x86_64.whl (48kB)\n",
      "\u001b[K     |████████████████████████████████| 51kB 20.0MB/s eta 0:00:01\n",
      "\u001b[?25hCollecting protobuf>=3.12.2 (from syft-proto~=0.5.2->syft)\n",
      "\u001b[?25l  Downloading https://files.pythonhosted.org/packages/71/dc/5ba56eab7440c62c5f808b4267e2a1d6c136e90293b43fefb1b493c6d704/protobuf-3.13.0-cp37-cp37m-manylinux1_x86_64.whl (1.3MB)\n",
      "\u001b[K     |████████████████████████████████| 1.3MB 24.5MB/s eta 0:00:01           | 286kB 24.5MB/s eta 0:00:01�████████████              | 716kB 24.5MB/s eta 0:00:01\n",
      "\u001b[?25hCollecting importlib-metadata; python_version < \"3.8\" (from importlib-resources~=1.5.0->syft)\n",
      "  Downloading https://files.pythonhosted.org/packages/6d/6d/f4bb28424bc677bce1210bc19f69a43efe823e294325606ead595211f93e/importlib_metadata-2.0.0-py2.py3-none-any.whl\n",
      "Collecting zipp>=0.4; python_version < \"3.8\" (from importlib-resources~=1.5.0->syft)\n",
      "  Downloading https://files.pythonhosted.org/packages/41/ad/6a4f1a124b325618a7fb758b885b68ff7b058eec47d9220a12ab38d90b1f/zipp-3.4.0-py3-none-any.whl\n"
     ]
    },
    {
     "name": "stdout",
     "output_type": "stream",
     "text": [
      "Collecting python-engineio>=3.13.0 (from python-socketio>=4.3.0->flask-socketio~=4.2.1->syft)\n",
      "\u001b[?25l  Downloading https://files.pythonhosted.org/packages/4a/b0/602e549c6d735eb487f186b35e0b82e61c89459f57d1c24d5c7be6f56d05/python_engineio-3.13.2-py2.py3-none-any.whl (50kB)\n",
      "\u001b[K     |████████████████████████████████| 51kB 20.1MB/s eta 0:00:01\n",
      "\u001b[?25hRequirement already satisfied: MarkupSafe>=0.23 in /srv/conda/envs/notebook/lib/python3.7/site-packages (from Jinja2>=2.10.1->Flask~=1.1.1->syft) (1.1.1)\n",
      "Requirement already satisfied: ipython>=5.0.0 in /srv/conda/envs/notebook/lib/python3.7/site-packages (from ipykernel->notebook==5.7.8->syft) (7.7.0)\n",
      "Requirement already satisfied: decorator in /srv/conda/envs/notebook/lib/python3.7/site-packages (from traitlets>=4.2.1->notebook==5.7.8->syft) (4.4.0)\n",
      "Requirement already satisfied: mistune>=0.8.1 in /srv/conda/envs/notebook/lib/python3.7/site-packages (from nbconvert->notebook==5.7.8->syft) (0.8.4)\n",
      "Requirement already satisfied: pygments in /srv/conda/envs/notebook/lib/python3.7/site-packages (from nbconvert->notebook==5.7.8->syft) (2.4.2)\n",
      "Requirement already satisfied: entrypoints>=0.2.2 in /srv/conda/envs/notebook/lib/python3.7/site-packages (from nbconvert->notebook==5.7.8->syft) (0.3)\n",
      "Requirement already satisfied: bleach in /srv/conda/envs/notebook/lib/python3.7/site-packages (from nbconvert->notebook==5.7.8->syft) (3.1.0)\n",
      "Requirement already satisfied: pandocfilters>=1.4.1 in /srv/conda/envs/notebook/lib/python3.7/site-packages (from nbconvert->notebook==5.7.8->syft) (1.4.2)\n",
      "Requirement already satisfied: testpath in /srv/conda/envs/notebook/lib/python3.7/site-packages (from nbconvert->notebook==5.7.8->syft) (0.4.2)\n",
      "Requirement already satisfied: defusedxml in /srv/conda/envs/notebook/lib/python3.7/site-packages (from nbconvert->notebook==5.7.8->syft) (0.5.0)\n",
      "Requirement already satisfied: jsonschema!=2.5.0,>=2.4 in /srv/conda/envs/notebook/lib/python3.7/site-packages (from nbformat->notebook==5.7.8->syft) (3.0.1)\n",
      "Requirement already satisfied: python-dateutil>=2.1 in /srv/conda/envs/notebook/lib/python3.7/site-packages (from jupyter-client>=5.2.0->notebook==5.7.8->syft) (2.8.0)\n",
      "Collecting netifaces (from aioice<0.7.0,>=0.6.17->aiortc==0.9.28->syft)\n",
      "  Downloading https://files.pythonhosted.org/packages/0d/18/fd6e9c71a35b67a73160ec80a49da63d1eed2d2055054cc2995714949132/netifaces-0.10.9.tar.gz\n",
      "Requirement already satisfied: asn1crypto>=0.21.0 in /srv/conda/envs/notebook/lib/python3.7/site-packages (from cryptography>=2.2->aiortc==0.9.28->syft) (0.24.0)\n",
      "Requirement already satisfied: setuptools in /srv/conda/envs/notebook/lib/python3.7/site-packages (from protobuf>=3.12.2->syft-proto~=0.5.2->syft) (41.0.1)\n",
      "Requirement already satisfied: prompt-toolkit<2.1.0,>=2.0.0 in /srv/conda/envs/notebook/lib/python3.7/site-packages (from ipython>=5.0.0->ipykernel->notebook==5.7.8->syft) (2.0.9)\n",
      "Requirement already satisfied: pexpect; sys_platform != \"win32\" in /srv/conda/envs/notebook/lib/python3.7/site-packages (from ipython>=5.0.0->ipykernel->notebook==5.7.8->syft) (4.7.0)\n",
      "Requirement already satisfied: jedi>=0.10 in /srv/conda/envs/notebook/lib/python3.7/site-packages (from ipython>=5.0.0->ipykernel->notebook==5.7.8->syft) (0.14.1)\n",
      "Requirement already satisfied: backcall in /srv/conda/envs/notebook/lib/python3.7/site-packages (from ipython>=5.0.0->ipykernel->notebook==5.7.8->syft) (0.1.0)\n",
      "Requirement already satisfied: pickleshare in /srv/conda/envs/notebook/lib/python3.7/site-packages (from ipython>=5.0.0->ipykernel->notebook==5.7.8->syft) (0.7.5)\n",
      "Requirement already satisfied: webencodings in /srv/conda/envs/notebook/lib/python3.7/site-packages (from bleach->nbconvert->notebook==5.7.8->syft) (0.5.1)\n",
      "Requirement already satisfied: attrs>=17.4.0 in /srv/conda/envs/notebook/lib/python3.7/site-packages (from jsonschema!=2.5.0,>=2.4->nbformat->notebook==5.7.8->syft) (19.1.0)\n",
      "Requirement already satisfied: pyrsistent>=0.14.0 in /srv/conda/envs/notebook/lib/python3.7/site-packages (from jsonschema!=2.5.0,>=2.4->nbformat->notebook==5.7.8->syft) (0.15.4)\n",
      "Requirement already satisfied: wcwidth in /srv/conda/envs/notebook/lib/python3.7/site-packages (from prompt-toolkit<2.1.0,>=2.0.0->ipython>=5.0.0->ipykernel->notebook==5.7.8->syft) (0.1.7)\n",
      "Requirement already satisfied: ptyprocess>=0.5 in /srv/conda/envs/notebook/lib/python3.7/site-packages (from pexpect; sys_platform != \"win32\"->ipython>=5.0.0->ipykernel->notebook==5.7.8->syft) (0.6.0)\n",
      "Requirement already satisfied: parso>=0.5.0 in /srv/conda/envs/notebook/lib/python3.7/site-packages (from jedi>=0.10->ipython>=5.0.0->ipykernel->notebook==5.7.8->syft) (0.5.1)\n",
      "Building wheels for collected packages: dill, phe, tornado, psutil, openmined.threepio, netifaces\n",
      "  Building wheel for dill (setup.py) ... \u001b[?25ldone\n",
      "\u001b[?25h  Created wheel for dill: filename=dill-0.3.2-cp37-none-any.whl size=78912 sha256=6e8290b4ed0494e004c60bcf8c1455487f888bf1da77aeca4be19d965957a16a\n",
      "  Stored in directory: /home/jovyan/.cache/pip/wheels/27/4b/a2/34ccdcc2f158742cfe9650675560dea85f78c3f4628f7daad0\n",
      "  Building wheel for phe (setup.py) ... \u001b[?25ldone\n",
      "\u001b[?25h  Created wheel for phe: filename=phe-1.4.0-py2.py3-none-any.whl size=37361 sha256=fd08b616e8c52ca979b21387a82373c9c339ab42600a56684c37e2bb5d3e02f2\n",
      "  Stored in directory: /home/jovyan/.cache/pip/wheels/f8/dc/36/dcb6bf0f1b9907e7b710ace63e64d08e7022340909315fdea4\n",
      "  Building wheel for tornado (setup.py) ... \u001b[?25ldone\n",
      "\u001b[?25h  Created wheel for tornado: filename=tornado-4.5.3-cp37-cp37m-linux_x86_64.whl size=434105 sha256=8b2fcb53f44e5f96e1b52c0631101f6bb2e13d266b6e7bed6d9eda734a2ca4cb\n",
      "  Stored in directory: /home/jovyan/.cache/pip/wheels/72/bf/f4/b68fa69596986881b397b18ff2b9af5f8181233aadcc9f76fd\n",
      "  Building wheel for psutil (setup.py) ... \u001b[?25ldone\n",
      "\u001b[?25h  Created wheel for psutil: filename=psutil-5.7.0-cp37-cp37m-linux_x86_64.whl size=276461 sha256=7d913986e39dacddc060b4ee5c244e7673f0b0075c7abc9be9c653b7a688d0bf\n",
      "  Stored in directory: /home/jovyan/.cache/pip/wheels/d7/69/b4/3200b95828d1f0ddb3cb5699083717f4fdbd9b4223d0644c57\n",
      "  Building wheel for openmined.threepio (setup.py) ... \u001b[?25ldone\n",
      "\u001b[?25h  Created wheel for openmined.threepio: filename=openmined.threepio-0.2.0-cp37-none-any.whl size=80095 sha256=524ea68394f40c92e364a99f5f0d8fc2bd8cd9a08a1ae7e4cb0469601b17115d\n",
      "  Stored in directory: /home/jovyan/.cache/pip/wheels/1b/a5/c5/7e67449f5d4d487e1d3a583ba51d27403b315b18ef2e48a13c\n",
      "  Building wheel for netifaces (setup.py) ... \u001b[?25ldone\n",
      "\u001b[?25h  Created wheel for netifaces: filename=netifaces-0.10.9-cp37-cp37m-linux_x86_64.whl size=37333 sha256=1414c0e79b93e4e39d9ef8d3d53a8d43c65a021f7c7ee631066d9676d254c019\n",
      "  Stored in directory: /home/jovyan/.cache/pip/wheels/23/8f/f3/7054578f04c904f70757c5c85a6e2823baa69d42365526e93d\n",
      "Successfully built dill phe tornado psutil openmined.threepio netifaces\n",
      "\u001b[31mERROR: jupyterhub 1.0.0 has requirement tornado>=5.0, but you'll have tornado 4.5.3 which is incompatible.\u001b[0m\n",
      "Installing collected packages: lz4, dill, phe, torch, msgpack, Pillow, numpy, torchvision, tornado, RestrictedPython, itsdangerous, Werkzeug, Flask, python-engineio, python-socketio, flask-socketio, requests-toolbelt, psutil, scipy, tblib, openmined.threepio, shaloop, websocket-client, pyee, av, pylibsrtp, netifaces, aioice, crc32c, aiortc, websockets, protobuf, syft-proto, zipp, importlib-metadata, importlib-resources, syft\n",
      "  Found existing installation: tornado 6.0.3\n",
      "    Uninstalling tornado-6.0.3:\n",
      "      Successfully uninstalled tornado-6.0.3\n",
      "Successfully installed Flask-1.1.2 Pillow-8.0.1 RestrictedPython-5.1 Werkzeug-1.0.1 aioice-0.6.18 aiortc-0.9.28 av-8.0.2 crc32c-2.2 dill-0.3.2 flask-socketio-4.2.1 importlib-metadata-2.0.0 importlib-resources-1.5.0 itsdangerous-1.1.0 lz4-3.0.2 msgpack-1.0.0 netifaces-0.10.9 numpy-1.18.5 openmined.threepio-0.2.0 phe-1.4.0 protobuf-3.13.0 psutil-5.7.0 pyee-8.1.0 pylibsrtp-0.6.7 python-engineio-3.13.2 python-socketio-4.6.0 requests-toolbelt-0.9.1 scipy-1.4.1 shaloop-0.2.1a11 syft-0.2.9 syft-proto-0.5.2 tblib-1.6.0 torch-1.4.0 torchvision-0.5.0 tornado-4.5.3 websocket-client-0.57.0 websockets-8.1 zipp-3.4.0\n"
     ]
    }
   ],
   "source": [
    "# this installs the syft library, comment the below command if you were able to install syft locally\n",
    "!pip install syft"
   ]
  },
  {
   "cell_type": "markdown",
   "metadata": {},
   "source": [
    "## Imports and initializing hook\n",
    "Lets import torch, torchvision, and other modules "
   ]
  },
  {
   "cell_type": "code",
   "execution_count": 21,
   "metadata": {},
   "outputs": [],
   "source": [
    "import torch\n",
    "import torch.nn as nn\n",
    "import torch.nn.functional as F\n",
    "import torch.optim as optim\n",
    "from torchvision import datasets, transforms"
   ]
  },
  {
   "cell_type": "code",
   "execution_count": 15,
   "metadata": {},
   "outputs": [
    {
     "name": "stderr",
     "output_type": "stream",
     "text": [
      "WARNING:root:Torch was already hooked... skipping hooking process\n"
     ]
    }
   ],
   "source": [
    "import syft as sy  # import the syft library\n",
    "hook = sy.TorchHook(torch)  # attach the pytorch hook\n",
    "joe = sy.VirtualWorker(hook, id=\"joe\")  #  remote worker joe\n",
    "jane = sy.VirtualWorker(hook, id=\"jane\")  #  remote worker  jane"
   ]
  },
  {
   "cell_type": "markdown",
   "metadata": {},
   "source": [
    "## Load in the MNIST dataset \n",
    "Let's load in the data and transform it into a federated dataset by implementing the federate() method."
   ]
  },
  {
   "cell_type": "code",
   "execution_count": 16,
   "metadata": {},
   "outputs": [],
   "source": [
    "transform = transforms.Compose([\n",
    "    transforms.ToTensor(),\n",
    "    transforms.Normalize((0.5, ), (0.5, )),\n",
    "])\n",
    "\n",
    "train_set = datasets.MNIST(\n",
    "    \"~/.pytorch/MNIST_data/\", train=True, download=True, transform=transform)\n",
    "test_set = datasets.MNIST(\n",
    "    \"~/.pytorch/MNIST_data/\", train=False, download=True, transform=transform)\n",
    "\n",
    "federated_train_loader = sy.FederatedDataLoader(\n",
    "    train_set.federate((joe, jane)), batch_size=64, shuffle=True) # the federate() method splits the data within the workers\n",
    "\n",
    "test_loader = torch.utils.data.DataLoader(\n",
    "    test_set, batch_size=64, shuffle=True)\n"
   ]
  },
  {
   "cell_type": "markdown",
   "metadata": {},
   "source": [
    "## Define the network architecture\n",
    "The network architecture would remain the same just as the example tutorial from pytorch with an input of 784-dim tensor of pixel values for each image, and producing a tensor of length 10  which indicates the class scores for an input image"
   ]
  },
  {
   "cell_type": "code",
   "execution_count": 17,
   "metadata": {},
   "outputs": [
    {
     "name": "stdout",
     "output_type": "stream",
     "text": [
      "Net(\n",
      "  (fc1): Linear(in_features=784, out_features=500, bias=True)\n",
      "  (fc2): Linear(in_features=500, out_features=10, bias=True)\n",
      ")\n"
     ]
    }
   ],
   "source": [
    "class Net(nn.Module):\n",
    "    def __init__(self):\n",
    "        super(Net, self).__init__()\n",
    "        self.fc1 = nn.Linear(784, 500)\n",
    "        self.fc2 = nn.Linear(500, 10)\n",
    "\n",
    "    def forward(self, x):\n",
    "        x = x.view(-1, 784)\n",
    "        x = self.fc1(x)\n",
    "        x = F.relu(x)\n",
    "        x = self.fc2(x)\n",
    "        return F.log_softmax(x, dim=1)\n",
    "model = Net()\n",
    "print(model)\n",
    "optimizer = optim.SGD(model.parameters(), lr=0.01)"
   ]
  },
  {
   "cell_type": "markdown",
   "metadata": {},
   "source": [
    "## Train the network \n",
    "Looking at the training process of this distributed approach, the data seem to be on a remote machine so therefore we would use the location attribute to get the location and send our model to that location where the data is present, we would then get back the improved model using the get() method and calculate the loss. \n"
   ]
  },
  {
   "cell_type": "code",
   "execution_count": 18,
   "metadata": {},
   "outputs": [
    {
     "name": "stdout",
     "output_type": "stream",
     "text": [
      "Training Epoch:  1 [    0/60032 (  0%)]\tLoss: 2.347703\n",
      "Training Epoch:  1 [ 6400/60032 ( 11%)]\tLoss: 1.378724\n",
      "Training Epoch:  1 [12800/60032 ( 21%)]\tLoss: 0.804508\n",
      "Training Epoch:  1 [19200/60032 ( 32%)]\tLoss: 0.622711\n",
      "Training Epoch:  1 [25600/60032 ( 43%)]\tLoss: 0.551721\n",
      "Training Epoch:  1 [32000/60032 ( 53%)]\tLoss: 0.462930\n",
      "Training Epoch:  1 [38400/60032 ( 64%)]\tLoss: 0.465403\n",
      "Training Epoch:  1 [44800/60032 ( 75%)]\tLoss: 0.512338\n",
      "Training Epoch:  1 [51200/60032 ( 85%)]\tLoss: 0.550041\n",
      "Training Epoch:  1 [57600/60032 ( 96%)]\tLoss: 0.540856\n",
      "Training Epoch:  2 [    0/60032 (  0%)]\tLoss: 0.484230\n",
      "Training Epoch:  2 [ 6400/60032 ( 11%)]\tLoss: 0.346220\n",
      "Training Epoch:  2 [12800/60032 ( 21%)]\tLoss: 0.197471\n",
      "Training Epoch:  2 [19200/60032 ( 32%)]\tLoss: 0.405758\n",
      "Training Epoch:  2 [25600/60032 ( 43%)]\tLoss: 0.270681\n",
      "Training Epoch:  2 [32000/60032 ( 53%)]\tLoss: 0.368734\n",
      "Training Epoch:  2 [38400/60032 ( 64%)]\tLoss: 0.467331\n",
      "Training Epoch:  2 [44800/60032 ( 75%)]\tLoss: 0.277411\n",
      "Training Epoch:  2 [51200/60032 ( 85%)]\tLoss: 0.297210\n",
      "Training Epoch:  2 [57600/60032 ( 96%)]\tLoss: 0.436042\n",
      "Training Epoch:  3 [    0/60032 (  0%)]\tLoss: 0.283737\n",
      "Training Epoch:  3 [ 6400/60032 ( 11%)]\tLoss: 0.243159\n",
      "Training Epoch:  3 [12800/60032 ( 21%)]\tLoss: 0.542538\n",
      "Training Epoch:  3 [19200/60032 ( 32%)]\tLoss: 0.371187\n",
      "Training Epoch:  3 [25600/60032 ( 43%)]\tLoss: 0.337319\n",
      "Training Epoch:  3 [32000/60032 ( 53%)]\tLoss: 0.322100\n",
      "Training Epoch:  3 [38400/60032 ( 64%)]\tLoss: 0.145682\n",
      "Training Epoch:  3 [44800/60032 ( 75%)]\tLoss: 0.410075\n",
      "Training Epoch:  3 [51200/60032 ( 85%)]\tLoss: 0.113453\n",
      "Training Epoch:  3 [57600/60032 ( 96%)]\tLoss: 0.318733\n",
      "Training Epoch:  4 [    0/60032 (  0%)]\tLoss: 0.223592\n",
      "Training Epoch:  4 [ 6400/60032 ( 11%)]\tLoss: 0.242962\n",
      "Training Epoch:  4 [12800/60032 ( 21%)]\tLoss: 0.159654\n",
      "Training Epoch:  4 [19200/60032 ( 32%)]\tLoss: 0.184120\n",
      "Training Epoch:  4 [25600/60032 ( 43%)]\tLoss: 0.177750\n",
      "Training Epoch:  4 [32000/60032 ( 53%)]\tLoss: 0.252696\n",
      "Training Epoch:  4 [38400/60032 ( 64%)]\tLoss: 0.269291\n",
      "Training Epoch:  4 [44800/60032 ( 75%)]\tLoss: 0.388338\n",
      "Training Epoch:  4 [51200/60032 ( 85%)]\tLoss: 0.248933\n",
      "Training Epoch:  4 [57600/60032 ( 96%)]\tLoss: 0.313349\n",
      "Training Epoch:  5 [    0/60032 (  0%)]\tLoss: 0.176913\n",
      "Training Epoch:  5 [ 6400/60032 ( 11%)]\tLoss: 0.185956\n",
      "Training Epoch:  5 [12800/60032 ( 21%)]\tLoss: 0.129341\n",
      "Training Epoch:  5 [19200/60032 ( 32%)]\tLoss: 0.456048\n",
      "Training Epoch:  5 [25600/60032 ( 43%)]\tLoss: 0.187203\n",
      "Training Epoch:  5 [32000/60032 ( 53%)]\tLoss: 0.212441\n",
      "Training Epoch:  5 [38400/60032 ( 64%)]\tLoss: 0.209363\n",
      "Training Epoch:  5 [44800/60032 ( 75%)]\tLoss: 0.304345\n",
      "Training Epoch:  5 [51200/60032 ( 85%)]\tLoss: 0.155915\n",
      "Training Epoch:  5 [57600/60032 ( 96%)]\tLoss: 0.219436\n",
      "Training Epoch:  6 [    0/60032 (  0%)]\tLoss: 0.241236\n",
      "Training Epoch:  6 [ 6400/60032 ( 11%)]\tLoss: 0.278178\n",
      "Training Epoch:  6 [12800/60032 ( 21%)]\tLoss: 0.323892\n",
      "Training Epoch:  6 [19200/60032 ( 32%)]\tLoss: 0.353325\n",
      "Training Epoch:  6 [25600/60032 ( 43%)]\tLoss: 0.285175\n",
      "Training Epoch:  6 [32000/60032 ( 53%)]\tLoss: 0.228845\n",
      "Training Epoch:  6 [38400/60032 ( 64%)]\tLoss: 0.325759\n",
      "Training Epoch:  6 [44800/60032 ( 75%)]\tLoss: 0.147562\n",
      "Training Epoch:  6 [51200/60032 ( 85%)]\tLoss: 0.243030\n",
      "Training Epoch:  6 [57600/60032 ( 96%)]\tLoss: 0.279153\n",
      "Training Epoch:  7 [    0/60032 (  0%)]\tLoss: 0.202087\n",
      "Training Epoch:  7 [ 6400/60032 ( 11%)]\tLoss: 0.352315\n",
      "Training Epoch:  7 [12800/60032 ( 21%)]\tLoss: 0.205158\n",
      "Training Epoch:  7 [19200/60032 ( 32%)]\tLoss: 0.212787\n",
      "Training Epoch:  7 [25600/60032 ( 43%)]\tLoss: 0.159285\n",
      "Training Epoch:  7 [32000/60032 ( 53%)]\tLoss: 0.306411\n",
      "Training Epoch:  7 [38400/60032 ( 64%)]\tLoss: 0.197679\n",
      "Training Epoch:  7 [44800/60032 ( 75%)]\tLoss: 0.198497\n",
      "Training Epoch:  7 [51200/60032 ( 85%)]\tLoss: 0.209403\n",
      "Training Epoch:  7 [57600/60032 ( 96%)]\tLoss: 0.445577\n",
      "Training Epoch:  8 [    0/60032 (  0%)]\tLoss: 0.187479\n",
      "Training Epoch:  8 [ 6400/60032 ( 11%)]\tLoss: 0.179464\n",
      "Training Epoch:  8 [12800/60032 ( 21%)]\tLoss: 0.133652\n",
      "Training Epoch:  8 [19200/60032 ( 32%)]\tLoss: 0.111417\n",
      "Training Epoch:  8 [25600/60032 ( 43%)]\tLoss: 0.122130\n",
      "Training Epoch:  8 [32000/60032 ( 53%)]\tLoss: 0.197284\n",
      "Training Epoch:  8 [38400/60032 ( 64%)]\tLoss: 0.224551\n",
      "Training Epoch:  8 [44800/60032 ( 75%)]\tLoss: 0.141910\n",
      "Training Epoch:  8 [51200/60032 ( 85%)]\tLoss: 0.212291\n",
      "Training Epoch:  8 [57600/60032 ( 96%)]\tLoss: 0.209488\n",
      "Training Epoch:  9 [    0/60032 (  0%)]\tLoss: 0.249829\n",
      "Training Epoch:  9 [ 6400/60032 ( 11%)]\tLoss: 0.049459\n",
      "Training Epoch:  9 [12800/60032 ( 21%)]\tLoss: 0.094764\n",
      "Training Epoch:  9 [19200/60032 ( 32%)]\tLoss: 0.165620\n",
      "Training Epoch:  9 [25600/60032 ( 43%)]\tLoss: 0.247599\n",
      "Training Epoch:  9 [32000/60032 ( 53%)]\tLoss: 0.181690\n",
      "Training Epoch:  9 [38400/60032 ( 64%)]\tLoss: 0.231270\n",
      "Training Epoch:  9 [44800/60032 ( 75%)]\tLoss: 0.211435\n",
      "Training Epoch:  9 [51200/60032 ( 85%)]\tLoss: 0.205131\n",
      "Training Epoch:  9 [57600/60032 ( 96%)]\tLoss: 0.076460\n",
      "Training Epoch: 10 [    0/60032 (  0%)]\tLoss: 0.195015\n",
      "Training Epoch: 10 [ 6400/60032 ( 11%)]\tLoss: 0.182849\n",
      "Training Epoch: 10 [12800/60032 ( 21%)]\tLoss: 0.247793\n",
      "Training Epoch: 10 [19200/60032 ( 32%)]\tLoss: 0.242711\n",
      "Training Epoch: 10 [25600/60032 ( 43%)]\tLoss: 0.184979\n",
      "Training Epoch: 10 [32000/60032 ( 53%)]\tLoss: 0.143992\n",
      "Training Epoch: 10 [38400/60032 ( 64%)]\tLoss: 0.151426\n",
      "Training Epoch: 10 [44800/60032 ( 75%)]\tLoss: 0.283537\n",
      "Training Epoch: 10 [51200/60032 ( 85%)]\tLoss: 0.229831\n",
      "Training Epoch: 10 [57600/60032 ( 96%)]\tLoss: 0.264431\n"
     ]
    }
   ],
   "source": [
    "n_epoch = 10 \n",
    "for epoch in range(n_epoch):\n",
    "    model.train()\n",
    "    for batch_idx, (data, target) in enumerate(federated_train_loader):\n",
    "        model.send(data.location) # send the model to the client device where the data is present\n",
    "        optimizer.zero_grad()         # training the model\n",
    "        output = model(data)\n",
    "        loss = F.nll_loss(output, target)\n",
    "        loss.backward()\n",
    "        optimizer.step()\n",
    "        model.get() # get back the improved model\n",
    "        if batch_idx % 100 == 0: \n",
    "            loss = loss.get() # get back the loss\n",
    "            print('Training Epoch: {:2d} [{:5d}/{:5d} ({:3.0f}%)]\\tLoss: {:.6f}'.format(\n",
    "                epoch+1, batch_idx * 64,\n",
    "                len(federated_train_loader) * 64,\n",
    "                100. * batch_idx / len(federated_train_loader), loss.item()))"
   ]
  },
  {
   "cell_type": "markdown",
   "metadata": {},
   "source": [
    "## Testing the trained model\n",
    "Remember the test dataset remains unchanged as it is on our local machine compared to the train dataset which we have splitted between two virtual workers."
   ]
  },
  {
   "cell_type": "code",
   "execution_count": 19,
   "metadata": {},
   "outputs": [
    {
     "name": "stdout",
     "output_type": "stream",
     "text": [
      "\n",
      "Test set: Average loss: 0.1762, Accuracy: 9475/10000 (95%)\n",
      "\n"
     ]
    }
   ],
   "source": [
    "model.eval()\n",
    "test_loss = 0\n",
    "correct = 0\n",
    "with torch.no_grad():\n",
    "    for data, target in test_loader:\n",
    "        output = model(data)\n",
    "        test_loss += F.nll_loss(\n",
    "            output, target, reduction='sum').item()\n",
    "        pred = output.argmax(1, keepdim=True) # get the index of the max log-probability\n",
    "        correct += pred.eq(target.view_as(pred)).sum().item()\n",
    "\n",
    "test_loss /= len(test_loader.dataset)\n",
    "\n",
    "print('\\nTest set: Average loss: {:.4f}, Accuracy: {}/{} ({:.0f}%)\\n'.format(\n",
    "    test_loss,correct,\n",
    "    len(test_loader.dataset),\n",
    "    100. * correct / len(test_loader.dataset)))"
   ]
  },
  {
   "cell_type": "markdown",
   "metadata": {},
   "source": [
    "As you can see, we achieved an accuracy of 95% which is pretty good for a federated sytem as this tutorial has demonstrated. "
   ]
  },
  {
   "cell_type": "code",
   "execution_count": null,
   "metadata": {},
   "outputs": [],
   "source": []
  }
 ],
 "metadata": {
  "kernelspec": {
   "display_name": "Python 3",
   "language": "python",
   "name": "python3"
  },
  "language_info": {
   "codemirror_mode": {
    "name": "ipython",
    "version": 3
   },
   "file_extension": ".py",
   "mimetype": "text/x-python",
   "name": "python",
   "nbconvert_exporter": "python",
   "pygments_lexer": "ipython3",
   "version": "3.7.3"
  }
 },
 "nbformat": 4,
 "nbformat_minor": 2
}
